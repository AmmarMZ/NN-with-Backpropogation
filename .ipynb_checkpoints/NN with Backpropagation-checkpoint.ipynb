{
 "cells": [
  {
   "cell_type": "code",
   "execution_count": 1,
   "metadata": {},
   "outputs": [],
   "source": [
    "%matplotlib inline\n",
    "import numpy as np\n",
    "import matplotlib.pyplot as plt\n",
    "import pandas as pd\n",
    "import scipy.io #Used to load the OCTAVE *.mat files\n",
    "import scipy.misc #Used to show matrix as an image\n",
    "import matplotlib.cm as cm #Used to display images in a specific colormap\n",
    "import random #To pick random images to display\n",
    "import math\n",
    "from scipy.special import expit #Vectorized sigmoid function\n",
    "import array"
   ]
  },
  {
   "cell_type": "code",
   "execution_count": 2,
   "metadata": {},
   "outputs": [],
   "source": [
    "dataFile = \"data/ex4data1.mat\"\n",
    "data = scipy.io.loadmat(dataFile)\n",
    "\n",
    "X = data['X']\n",
    "y = data['y']\n",
    "\n",
    "X = np.insert(X, 0, 1, axis = 1)\n"
   ]
  },
  {
   "cell_type": "code",
   "execution_count": 3,
   "metadata": {},
   "outputs": [],
   "source": [
    "# taken from ex3\n",
    "def reshapeRow(row):\n",
    "    \"\"\"\n",
    "    @param {row} 1 x 401 matrix since an image of a digit is 20x20 + 1 that was added as a bias\n",
    "    Function that takes in the pixel intensity values and puts it into a 20x20 square \n",
    "    \"\"\" \n",
    "    # the [1:] is used to take everything after the 1st index \n",
    "    \n",
    "    return row[1:].reshape(20,20).T\n",
    "\n",
    "def displayData(indiciesToDisplay = None):\n",
    "    \"\"\"\n",
    "    Function that selects 100 random examples for the 5000 we have and organizes\n",
    "    them into a 10x10 matrix\n",
    "    \"\"\"\n",
    "    width = 20\n",
    "    height = 20\n",
    "    numRows = 10\n",
    "    numCols = 10\n",
    "    \n",
    "    if not indiciesToDisplay:\n",
    "        indiciesToDisplay = random.sample(range(X.shape[0]), numRows * numCols)\n",
    "\n",
    "    \n",
    "    bigPicture = np.zeros((height * numRows, width * numCols))\n",
    "    \n",
    "    iRow = 0\n",
    "    iCol = 0\n",
    "\n",
    "    for i in indiciesToDisplay :\n",
    "        if iCol == numCols:\n",
    "            iCol = 0\n",
    "            iRow += 1\n",
    " \n",
    "        curImg = reshapeRow(X[i])\n",
    "        bigPicture[iRow * height :iRow * height + curImg.shape[0], \n",
    "                    iCol * width : iCol * width + curImg.shape[1]] = curImg\n",
    "        iCol += 1 \n",
    "    fig = plt.figure( figsize = (6,6) )\n",
    "    img = scipy.misc.toimage( bigPicture )\n",
    "    plt.imshow(img,cmap = cm.Greys_r)\n",
    "\n",
    "#displayData()"
   ]
  },
  {
   "cell_type": "code",
   "execution_count": 4,
   "metadata": {},
   "outputs": [],
   "source": [
    "thetaFile = \"data/ex4weights.mat\"\n",
    "thetas = scipy.io.loadmat(thetaFile)\n",
    "\n",
    "# Theta1.shape = 25 x 401\n",
    "Theta1 = thetas['Theta1']\n",
    "\n",
    "# Theta2.shape = 10 x 26\n",
    "Theta2 = thetas['Theta2']\n",
    "\n",
    "thetaUnrolled = np.r_[Theta1.ravel(), Theta2.ravel()]\n",
    "\n",
    "inputSize = 400\n",
    "hiddenSize = 25\n",
    "outputSize = 10\n",
    "\n",
    "\n",
    "# m = 5000\n",
    "m = X.shape[0]\n",
    "# n = 401\n",
    "n = X.shape[1]\n",
    "\n",
    "aVals = [None] * 3\n",
    "zVals = [None] * 2"
   ]
  },
  {
   "cell_type": "code",
   "execution_count": 58,
   "metadata": {},
   "outputs": [],
   "source": [
    "def sigmoid(X, theta):\n",
    "    return expit(np.dot(X,theta))\n",
    "\n",
    "def costFunction(thetas, X, y, lmbda):\n",
    "    \n",
    "    theta1 = thetas[0:(hiddenSize*(inputSize+1))].reshape(hiddenSize,(inputSize+1))\n",
    "    theta2 = thetas[(hiddenSize*(inputSize+1)):].reshape(10,(hiddenSize+1))\n",
    "    \n",
    "    m = X.shape[0]\n",
    "\n",
    "    a1 = X # 5000 x 401\n",
    "    z2 = theta1.dot(X.T)\n",
    "    \n",
    "    a2 = expit(z2) # 25 x 5000\n",
    "    a2 = np.insert(a2,0,1,axis=0)\n",
    "    print(a2.shape)\n",
    "       \n",
    "    z3 = theta2.dot(a2)\n",
    "    a3 = expit(z3)\n",
    "    \n",
    "    aVals[0] = a1\n",
    "    aVals[1] = a2\n",
    "    aVals[2] = a3\n",
    "    \n",
    "    zVals[0] = z2\n",
    "    zVals[1] = z3\n",
    "     \n",
    "    tempY = pd.get_dummies(y.ravel()).values\n",
    "    \n",
    "    J = (-1/m)*np.sum(np.log(a3.T)*(tempY)+np.log(1-a3).T*(1-tempY)) + \\\n",
    "    (lmbda/(2*m))*(np.sum(np.square(theta1[:,1:])) + np.sum(np.square(theta2[:,1:])))  \n",
    "    \n",
    "    return J"
   ]
  },
  {
   "cell_type": "code",
   "execution_count": 59,
   "metadata": {},
   "outputs": [
    {
     "name": "stdout",
     "output_type": "stream",
     "text": [
      "(26, 5000)\n",
      "Expected value is ~ 0.383\n",
      "Actual value 0.383769859\n"
     ]
    }
   ],
   "source": [
    "def testCost():\n",
    "    thetas = [Theta1,Theta2]\n",
    "    J = costFunction(thetaUnrolled,X,y,1)\n",
    "    print(\"Expected value is ~ 0.383\\nActual value %.9f\"%J)\n",
    "testCost()"
   ]
  },
  {
   "cell_type": "code",
   "execution_count": 19,
   "metadata": {},
   "outputs": [],
   "source": [
    "def gradientSigmoid(z):\n",
    "    return expit(z)*(1-expit(z))\n",
    "\n",
    "def initRandomThetas():\n",
    "    epsilon = 0.12\n",
    "    theta1Size = (hiddenSize, inputSize + 1)\n",
    "    theta2Size = (outputSize, hiddenSize + 1)\n",
    "    \n",
    "    \n",
    "    theta1 = np.random.rand(*theta1Size).ravel()*2*epsilon - epsilon\n",
    "    theta2 = np.random.rand(*theta2Size).ravel()*2*epsilon - epsilon\n",
    "    \n",
    "   # thetas = np.r_((np.random.rand(*theta1).ravel()*2*epsilon - epsilon, \\\n",
    "   #                 np.random.rand(*theta2).ravel()*2*epsilon - epsilon))\n",
    "    \n",
    "    thetas = np.r_[Theta1.ravel(), Theta2.ravel()]\n",
    "    return thetas\n",
    "\n",
    "temp = initRandomThetas()\n"
   ]
  },
  {
   "cell_type": "code",
   "execution_count": 66,
   "metadata": {},
   "outputs": [
    {
     "name": "stdout",
     "output_type": "stream",
     "text": [
      "[0 0 0 0 0 0 0 0 0 1]\n"
     ]
    },
    {
     "ename": "ValueError",
     "evalue": "operands could not be broadcast together with shapes (5000,) (10,) ",
     "output_type": "error",
     "traceback": [
      "\u001b[1;31m---------------------------------------------------------------------------\u001b[0m",
      "\u001b[1;31mValueError\u001b[0m                                Traceback (most recent call last)",
      "\u001b[1;32m<ipython-input-66-cf1e101cecea>\u001b[0m in \u001b[0;36m<module>\u001b[1;34m\u001b[0m\n\u001b[0;32m     48\u001b[0m \u001b[1;33m\u001b[0m\u001b[0m\n\u001b[0;32m     49\u001b[0m \u001b[0mthetas\u001b[0m \u001b[1;33m=\u001b[0m \u001b[0mnp\u001b[0m\u001b[1;33m.\u001b[0m\u001b[0mr_\u001b[0m\u001b[1;33m[\u001b[0m\u001b[0mTheta1\u001b[0m\u001b[1;33m.\u001b[0m\u001b[0mravel\u001b[0m\u001b[1;33m(\u001b[0m\u001b[1;33m)\u001b[0m\u001b[1;33m,\u001b[0m \u001b[0mTheta2\u001b[0m\u001b[1;33m.\u001b[0m\u001b[0mravel\u001b[0m\u001b[1;33m(\u001b[0m\u001b[1;33m)\u001b[0m\u001b[1;33m]\u001b[0m\u001b[1;33m\u001b[0m\u001b[0m\n\u001b[1;32m---> 50\u001b[1;33m \u001b[0mD1\u001b[0m\u001b[1;33m,\u001b[0m\u001b[0mD2\u001b[0m \u001b[1;33m=\u001b[0m \u001b[0mbackProp\u001b[0m\u001b[1;33m(\u001b[0m\u001b[0mthetas\u001b[0m\u001b[1;33m,\u001b[0m\u001b[0mX\u001b[0m\u001b[1;33m,\u001b[0m\u001b[0my\u001b[0m\u001b[1;33m,\u001b[0m\u001b[1;36m0\u001b[0m\u001b[1;33m)\u001b[0m\u001b[1;33m\u001b[0m\u001b[0m\n\u001b[0m",
      "\u001b[1;32m<ipython-input-66-cf1e101cecea>\u001b[0m in \u001b[0;36mbackProp\u001b[1;34m(thetas, X, y, lmbda)\u001b[0m\n\u001b[0;32m     22\u001b[0m         \u001b[0ma3t\u001b[0m \u001b[1;33m=\u001b[0m \u001b[0ma3\u001b[0m\u001b[1;33m[\u001b[0m\u001b[0mi\u001b[0m\u001b[1;33m,\u001b[0m\u001b[1;33m:\u001b[0m\u001b[1;33m]\u001b[0m\u001b[1;33m\u001b[0m\u001b[0m\n\u001b[0;32m     23\u001b[0m         \u001b[0myT\u001b[0m \u001b[1;33m=\u001b[0m \u001b[0mtempY\u001b[0m\u001b[1;33m[\u001b[0m\u001b[0mi\u001b[0m\u001b[1;33m,\u001b[0m\u001b[1;33m:\u001b[0m\u001b[1;33m]\u001b[0m\u001b[1;33m\u001b[0m\u001b[0m\n\u001b[1;32m---> 24\u001b[1;33m         \u001b[0mdelta3\u001b[0m \u001b[1;33m=\u001b[0m \u001b[0ma3t\u001b[0m\u001b[1;33m.\u001b[0m\u001b[0mT\u001b[0m \u001b[1;33m-\u001b[0m \u001b[0myT\u001b[0m\u001b[1;33m\u001b[0m\u001b[0m\n\u001b[0m\u001b[0;32m     25\u001b[0m         \u001b[0mdelta2\u001b[0m \u001b[1;33m=\u001b[0m \u001b[0mtheta2\u001b[0m\u001b[1;33m[\u001b[0m\u001b[1;33m:\u001b[0m\u001b[1;33m,\u001b[0m\u001b[1;36m1\u001b[0m\u001b[1;33m:\u001b[0m\u001b[1;33m]\u001b[0m\u001b[1;33m.\u001b[0m\u001b[0mT\u001b[0m\u001b[1;33m.\u001b[0m\u001b[0mdot\u001b[0m\u001b[1;33m(\u001b[0m\u001b[0mdelta3\u001b[0m\u001b[1;33m.\u001b[0m\u001b[0mT\u001b[0m\u001b[1;33m)\u001b[0m\u001b[1;33m*\u001b[0m\u001b[0mgradientSigmoid\u001b[0m\u001b[1;33m(\u001b[0m\u001b[0ma1t\u001b[0m\u001b[1;33m*\u001b[0m\u001b[0mtheta1\u001b[0m\u001b[1;33m)\u001b[0m\u001b[1;33m\u001b[0m\u001b[0m\n\u001b[0;32m     26\u001b[0m         \u001b[0mD1\u001b[0m \u001b[1;33m=\u001b[0m \u001b[0mD1\u001b[0m \u001b[1;33m+\u001b[0m \u001b[0mdelta2\u001b[0m\u001b[1;33m[\u001b[0m\u001b[1;33m:\u001b[0m\u001b[1;33m,\u001b[0m\u001b[1;36m1\u001b[0m\u001b[1;33m:\u001b[0m\u001b[1;33m]\u001b[0m\u001b[1;33m.\u001b[0m\u001b[0mdot\u001b[0m\u001b[1;33m(\u001b[0m\u001b[0ma1t\u001b[0m\u001b[1;33m)\u001b[0m\u001b[1;33m\u001b[0m\u001b[0m\n",
      "\u001b[1;31mValueError\u001b[0m: operands could not be broadcast together with shapes (5000,) (10,) "
     ]
    }
   ],
   "source": [
    "def backProp(thetas,X,y, lmbda):\n",
    "    m = X.shape[0]\n",
    "    \n",
    "    theta1 = thetas[0:(hiddenSize*(inputSize+1))].reshape(hiddenSize,(inputSize+1))\n",
    "    theta2 = thetas[(hiddenSize*(inputSize+1)):].reshape(10,(hiddenSize+1))\n",
    "    \n",
    "    a1 = aVals[0]\n",
    "    a2 = aVals[1]\n",
    "    a3 = aVals[2]\n",
    "    \n",
    "    z2 = zVals[0]\n",
    "    z3 = zVals[1]\n",
    "    tempY = pd.get_dummies(y.ravel()).values \n",
    "    \n",
    "    print(tempY[3599,:])\n",
    "\n",
    "    D1 = np.zeros((theta1.shape))\n",
    "    D2 = np.zeros((theta2.shape))\n",
    "    for i in range(m):\n",
    "        a1t = a1[i,:]\n",
    "        a2t = a2[1,:]\n",
    "        a3t = a3[i,:]\n",
    "        yT = tempY[i,:]\n",
    "        delta3 = a3t.T - yT\n",
    "        delta2 = theta2[:,1:].T.dot(delta3.T)*gradientSigmoid(a1t*theta1)\n",
    "        D1 = D1 + delta2[:,1:].dot(a1t)\n",
    "        D2 = D2 + delta3.T.dot(a2T.T)\n",
    "\n",
    "        \n",
    "        \n",
    "    \n",
    "    #delta3 = a3.T - tempY\n",
    "    #delta2 = theta2[:,1:].T.dot(delta3.T)*gradientSigmoid(z2)\n",
    "    # dont need delta1\n",
    "    \n",
    "    #D1 = delta2.dot(a1)\n",
    "    #D2 = delta3.T.dot(a2.T)\n",
    "\n",
    "    print(D1.shape)\n",
    "    print(D2.shape)\n",
    "    \n",
    "    \n",
    "    return D1,D2\n",
    "       \n",
    "\n",
    "def printShape(a,name):\n",
    "    print(\"%s.shape is (%d,%d)\" %(name,a.shape[0],a.shape[1]))\n",
    "\n",
    "thetas = np.r_[Theta1.ravel(), Theta2.ravel()]\n",
    "D1,D2 = backProp(thetas,X,y,0)\n"
   ]
  },
  {
   "cell_type": "code",
   "execution_count": 54,
   "metadata": {},
   "outputs": [
    {
     "ename": "ValueError",
     "evalue": "operands could not be broadcast together with shapes (26,5000) (25,5000) ",
     "output_type": "error",
     "traceback": [
      "\u001b[1;31m---------------------------------------------------------------------------\u001b[0m",
      "\u001b[1;31mValueError\u001b[0m                                Traceback (most recent call last)",
      "\u001b[1;32m<ipython-input-54-29d847610556>\u001b[0m in \u001b[0;36m<module>\u001b[1;34m\u001b[0m\n\u001b[0;32m      8\u001b[0m     \u001b[1;32mreturn\u001b[0m \u001b[0mreshapeParams\u001b[0m\u001b[1;33m(\u001b[0m\u001b[0mresult\u001b[0m\u001b[1;33m[\u001b[0m\u001b[1;36m0\u001b[0m\u001b[1;33m]\u001b[0m\u001b[1;33m)\u001b[0m\u001b[1;33m\u001b[0m\u001b[0m\n\u001b[0;32m      9\u001b[0m \u001b[1;33m\u001b[0m\u001b[0m\n\u001b[1;32m---> 10\u001b[1;33m \u001b[0mtrainThetas\u001b[0m \u001b[1;33m=\u001b[0m \u001b[0mtrainNN\u001b[0m\u001b[1;33m(\u001b[0m\u001b[1;36m0\u001b[0m\u001b[1;33m)\u001b[0m\u001b[1;33m\u001b[0m\u001b[0m\n\u001b[0m",
      "\u001b[1;32m<ipython-input-54-29d847610556>\u001b[0m in \u001b[0;36mtrainNN\u001b[1;34m(lmbda)\u001b[0m\n\u001b[0;32m      5\u001b[0m \u001b[1;33m\u001b[0m\u001b[0m\n\u001b[0;32m      6\u001b[0m     result = scipy.optimize.fmin_cg(costFunction, fprime=backProp, x0=generatedThetas, \\\n\u001b[1;32m----> 7\u001b[1;33m                                args=(X,y,lmbda),maxiter=50,disp=True,full_output=True)\n\u001b[0m\u001b[0;32m      8\u001b[0m     \u001b[1;32mreturn\u001b[0m \u001b[0mreshapeParams\u001b[0m\u001b[1;33m(\u001b[0m\u001b[0mresult\u001b[0m\u001b[1;33m[\u001b[0m\u001b[1;36m0\u001b[0m\u001b[1;33m]\u001b[0m\u001b[1;33m)\u001b[0m\u001b[1;33m\u001b[0m\u001b[0m\n\u001b[0;32m      9\u001b[0m \u001b[1;33m\u001b[0m\u001b[0m\n",
      "\u001b[1;32m~\\AppData\\Roaming\\Python\\Python37\\site-packages\\scipy\\optimize\\optimize.py\u001b[0m in \u001b[0;36mfmin_cg\u001b[1;34m(f, x0, fprime, args, gtol, norm, epsilon, maxiter, full_output, disp, retall, callback)\u001b[0m\n\u001b[0;32m   1212\u001b[0m             'return_all': retall}\n\u001b[0;32m   1213\u001b[0m \u001b[1;33m\u001b[0m\u001b[0m\n\u001b[1;32m-> 1214\u001b[1;33m     \u001b[0mres\u001b[0m \u001b[1;33m=\u001b[0m \u001b[0m_minimize_cg\u001b[0m\u001b[1;33m(\u001b[0m\u001b[0mf\u001b[0m\u001b[1;33m,\u001b[0m \u001b[0mx0\u001b[0m\u001b[1;33m,\u001b[0m \u001b[0margs\u001b[0m\u001b[1;33m,\u001b[0m \u001b[0mfprime\u001b[0m\u001b[1;33m,\u001b[0m \u001b[0mcallback\u001b[0m\u001b[1;33m=\u001b[0m\u001b[0mcallback\u001b[0m\u001b[1;33m,\u001b[0m \u001b[1;33m**\u001b[0m\u001b[0mopts\u001b[0m\u001b[1;33m)\u001b[0m\u001b[1;33m\u001b[0m\u001b[0m\n\u001b[0m\u001b[0;32m   1215\u001b[0m \u001b[1;33m\u001b[0m\u001b[0m\n\u001b[0;32m   1216\u001b[0m     \u001b[1;32mif\u001b[0m \u001b[0mfull_output\u001b[0m\u001b[1;33m:\u001b[0m\u001b[1;33m\u001b[0m\u001b[0m\n",
      "\u001b[1;32m~\\AppData\\Roaming\\Python\\Python37\\site-packages\\scipy\\optimize\\optimize.py\u001b[0m in \u001b[0;36m_minimize_cg\u001b[1;34m(fun, x0, args, jac, callback, gtol, norm, eps, maxiter, disp, return_all, **unknown_options)\u001b[0m\n\u001b[0;32m   1263\u001b[0m     \u001b[1;32melse\u001b[0m\u001b[1;33m:\u001b[0m\u001b[1;33m\u001b[0m\u001b[0m\n\u001b[0;32m   1264\u001b[0m         \u001b[0mgrad_calls\u001b[0m\u001b[1;33m,\u001b[0m \u001b[0mmyfprime\u001b[0m \u001b[1;33m=\u001b[0m \u001b[0mwrap_function\u001b[0m\u001b[1;33m(\u001b[0m\u001b[0mfprime\u001b[0m\u001b[1;33m,\u001b[0m \u001b[0margs\u001b[0m\u001b[1;33m)\u001b[0m\u001b[1;33m\u001b[0m\u001b[0m\n\u001b[1;32m-> 1265\u001b[1;33m     \u001b[0mgfk\u001b[0m \u001b[1;33m=\u001b[0m \u001b[0mmyfprime\u001b[0m\u001b[1;33m(\u001b[0m\u001b[0mx0\u001b[0m\u001b[1;33m)\u001b[0m\u001b[1;33m\u001b[0m\u001b[0m\n\u001b[0m\u001b[0;32m   1266\u001b[0m     \u001b[0mk\u001b[0m \u001b[1;33m=\u001b[0m \u001b[1;36m0\u001b[0m\u001b[1;33m\u001b[0m\u001b[0m\n\u001b[0;32m   1267\u001b[0m     \u001b[0mxk\u001b[0m \u001b[1;33m=\u001b[0m \u001b[0mx0\u001b[0m\u001b[1;33m\u001b[0m\u001b[0m\n",
      "\u001b[1;32m~\\AppData\\Roaming\\Python\\Python37\\site-packages\\scipy\\optimize\\optimize.py\u001b[0m in \u001b[0;36mfunction_wrapper\u001b[1;34m(*wrapper_args)\u001b[0m\n\u001b[0;32m    291\u001b[0m     \u001b[1;32mdef\u001b[0m \u001b[0mfunction_wrapper\u001b[0m\u001b[1;33m(\u001b[0m\u001b[1;33m*\u001b[0m\u001b[0mwrapper_args\u001b[0m\u001b[1;33m)\u001b[0m\u001b[1;33m:\u001b[0m\u001b[1;33m\u001b[0m\u001b[0m\n\u001b[0;32m    292\u001b[0m         \u001b[0mncalls\u001b[0m\u001b[1;33m[\u001b[0m\u001b[1;36m0\u001b[0m\u001b[1;33m]\u001b[0m \u001b[1;33m+=\u001b[0m \u001b[1;36m1\u001b[0m\u001b[1;33m\u001b[0m\u001b[0m\n\u001b[1;32m--> 293\u001b[1;33m         \u001b[1;32mreturn\u001b[0m \u001b[0mfunction\u001b[0m\u001b[1;33m(\u001b[0m\u001b[1;33m*\u001b[0m\u001b[1;33m(\u001b[0m\u001b[0mwrapper_args\u001b[0m \u001b[1;33m+\u001b[0m \u001b[0margs\u001b[0m\u001b[1;33m)\u001b[0m\u001b[1;33m)\u001b[0m\u001b[1;33m\u001b[0m\u001b[0m\n\u001b[0m\u001b[0;32m    294\u001b[0m \u001b[1;33m\u001b[0m\u001b[0m\n\u001b[0;32m    295\u001b[0m     \u001b[1;32mreturn\u001b[0m \u001b[0mncalls\u001b[0m\u001b[1;33m,\u001b[0m \u001b[0mfunction_wrapper\u001b[0m\u001b[1;33m\u001b[0m\u001b[0m\n",
      "\u001b[1;32m<ipython-input-53-a7430db395a3>\u001b[0m in \u001b[0;36mbackProp\u001b[1;34m(thetas, X, y, lmbda)\u001b[0m\n\u001b[0;32m     15\u001b[0m \u001b[1;33m\u001b[0m\u001b[0m\n\u001b[0;32m     16\u001b[0m     \u001b[0mdelta3\u001b[0m \u001b[1;33m=\u001b[0m \u001b[0ma3\u001b[0m\u001b[1;33m.\u001b[0m\u001b[0mT\u001b[0m \u001b[1;33m-\u001b[0m \u001b[0mtempY\u001b[0m\u001b[1;33m\u001b[0m\u001b[0m\n\u001b[1;32m---> 17\u001b[1;33m     \u001b[0mdelta2\u001b[0m \u001b[1;33m=\u001b[0m \u001b[0mtheta2\u001b[0m\u001b[1;33m.\u001b[0m\u001b[0mT\u001b[0m\u001b[1;33m.\u001b[0m\u001b[0mdot\u001b[0m\u001b[1;33m(\u001b[0m\u001b[0mdelta3\u001b[0m\u001b[1;33m.\u001b[0m\u001b[0mT\u001b[0m\u001b[1;33m)\u001b[0m\u001b[1;33m*\u001b[0m\u001b[0mgradientSigmoid\u001b[0m\u001b[1;33m(\u001b[0m\u001b[0mz2\u001b[0m\u001b[1;33m)\u001b[0m\u001b[1;33m\u001b[0m\u001b[0m\n\u001b[0m\u001b[0;32m     18\u001b[0m     \u001b[1;31m# dont need delta1\u001b[0m\u001b[1;33m\u001b[0m\u001b[1;33m\u001b[0m\u001b[0m\n\u001b[0;32m     19\u001b[0m \u001b[1;33m\u001b[0m\u001b[0m\n",
      "\u001b[1;31mValueError\u001b[0m: operands could not be broadcast together with shapes (26,5000) (25,5000) "
     ]
    }
   ],
   "source": [
    "import scipy.optimize\n",
    "def trainNN(lmbda):\n",
    "    generatedThetas = initRandomThetas()\n",
    "\n",
    "\n",
    "    result = scipy.optimize.fmin_cg(costFunction, fprime=backProp, x0=generatedThetas, \\\n",
    "                               args=(X,y,lmbda),maxiter=50,disp=True,full_output=True)\n",
    "    return reshapeParams(result[0])\n",
    "\n",
    "trainThetas = trainNN(0)"
   ]
  },
  {
   "cell_type": "code",
   "execution_count": null,
   "metadata": {},
   "outputs": [],
   "source": []
  },
  {
   "cell_type": "code",
   "execution_count": null,
   "metadata": {},
   "outputs": [],
   "source": []
  }
 ],
 "metadata": {
  "kernelspec": {
   "display_name": "Python 3",
   "language": "python",
   "name": "python3"
  },
  "language_info": {
   "codemirror_mode": {
    "name": "ipython",
    "version": 3
   },
   "file_extension": ".py",
   "mimetype": "text/x-python",
   "name": "python",
   "nbconvert_exporter": "python",
   "pygments_lexer": "ipython3",
   "version": "3.7.0"
  }
 },
 "nbformat": 4,
 "nbformat_minor": 2
}
