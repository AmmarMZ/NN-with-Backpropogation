{
 "cells": [
  {
   "cell_type": "code",
   "execution_count": 1,
   "metadata": {},
   "outputs": [],
   "source": [
    "%matplotlib inline\n",
    "import numpy as np\n",
    "import matplotlib.pyplot as plt\n",
    "import pandas as pd\n",
    "import scipy.io #Used to load the OCTAVE *.mat files\n",
    "import scipy.misc #Used to show matrix as an image\n",
    "import matplotlib.cm as cm #Used to display images in a specific colormap\n",
    "import random #To pick random images to display\n",
    "import math\n",
    "from scipy.special import expit #Vectorized sigmoid function"
   ]
  },
  {
   "cell_type": "code",
   "execution_count": 2,
   "metadata": {},
   "outputs": [],
   "source": [
    "dataFile = \"data/ex4data1.mat\"\n",
    "data = scipy.io.loadmat(dataFile)\n",
    "\n",
    "X = data['X']\n",
    "y = data['y']\n",
    "\n",
    "X = np.insert(X, 0, 1, axis = 1)"
   ]
  },
  {
   "cell_type": "code",
   "execution_count": 4,
   "metadata": {},
   "outputs": [],
   "source": [
    "# taken from ex3\n",
    "def reshapeRow(row):\n",
    "    \"\"\"\n",
    "    @param {row} 1 x 401 matrix since an image of a digit is 20x20 + 1 that was added as a bias\n",
    "    Function that takes in the pixel intensity values and puts it into a 20x20 square \n",
    "    \"\"\" \n",
    "    # the [1:] is used to take everything after the 1st index \n",
    "    \n",
    "    return row[1:].reshape(20,20).T\n",
    "\n",
    "def displayData(indiciesToDisplay = None):\n",
    "    \"\"\"\n",
    "    Function that selects 100 random examples for the 5000 we have and organizes\n",
    "    them into a 10x10 matrix\n",
    "    \"\"\"\n",
    "    width = 20\n",
    "    height = 20\n",
    "    numRows = 10\n",
    "    numCols = 10\n",
    "    \n",
    "    if not indiciesToDisplay:\n",
    "        indiciesToDisplay = random.sample(range(X.shape[0]), numRows * numCols)\n",
    "\n",
    "    \n",
    "    bigPicture = np.zeros((height * numRows, width * numCols))\n",
    "    \n",
    "    iRow = 0\n",
    "    iCol = 0\n",
    "\n",
    "    for i in indiciesToDisplay :\n",
    "        if iCol == numCols:\n",
    "            iCol = 0\n",
    "            iRow += 1\n",
    " \n",
    "        curImg = reshapeRow(X[i])\n",
    "        bigPicture[iRow * height :iRow * height + curImg.shape[0], \n",
    "                    iCol * width : iCol * width + curImg.shape[1]] = curImg\n",
    "        iCol += 1 \n",
    "    fig = plt.figure( figsize = (6,6) )\n",
    "    img = scipy.misc.toimage( bigPicture )\n",
    "    plt.imshow(img,cmap = cm.Greys_r)\n",
    "\n",
    "#displayData()"
   ]
  },
  {
   "cell_type": "code",
   "execution_count": 7,
   "metadata": {},
   "outputs": [
    {
     "name": "stdout",
     "output_type": "stream",
     "text": [
      "401\n"
     ]
    }
   ],
   "source": [
    "thetaFile = \"data/ex4weights.mat\"\n",
    "thetas = scipy.io.loadmat(thetaFile)\n",
    "\n",
    "# Theta1.shape = 25 x 401\n",
    "Theta1 = thetas['Theta1']\n",
    "\n",
    "# Theta2.shape = 10 x 26\n",
    "Theta2 = thetas['Theta2']\n",
    "\n",
    "inputSize = 400\n",
    "hiddenSize = 25\n",
    "outputSize = 10\n",
    "\n",
    "# n = 401\n",
    "n = X.shape[1]"
   ]
  },
  {
   "cell_type": "code",
   "execution_count": 50,
   "metadata": {},
   "outputs": [],
   "source": [
    "def sigmoid(X, theta):\n",
    "    return expit(np.dot(X,theta))\n",
    "\n",
    "def costFunction(X, y, thetas, lmbda):\n",
    "    # num of labels\n",
    "    k = 10\n",
    "    # m = 5000\n",
    "    m = X.shape[0]\n",
    "    \n",
    "    totalCost = 0\n",
    "    for i in range(m):\n",
    "        # a = aL is the same as saying a is now the output layer value\n",
    "        a = feedForward(X[i], thetas)[1][-1]\n",
    "        tempY = np.zeros((10, 1))\n",
    "        tempY[y[i]-1] = 1\n",
    "        cost = -tempY.T.dot(np.log(a)) - (1-tempY.T).dot(np.log(1-a))\n",
    "        totalCost += cost\n",
    "        \n",
    "    totalCost = totalCost/m\n",
    "    totalRegularized = np.array(1)\n",
    "    thetas = np.array(thetas)\n",
    "    for i in range(len(thetas)):\n",
    "        curTheta = thetas[i]\n",
    "        np\n",
    "        totalRegularized = np.add(totalRegularized, np.sum(curTheta**2))\n",
    "    totalRegularized *= float(lmbda)/(2*m)\n",
    "    \n",
    "    return totalCost + totalRegularized\n",
    "\n",
    "# remember that theta is initialized to random values\n",
    "# returns a1,a2...aL in matrix a\n",
    "def feedForward(X, thetas):\n",
    "    nThetas = len(thetas)\n",
    "    for i in range(nThetas):\n",
    "        curTheta = thetas[i]\n",
    "        if (i == 0):\n",
    "            z = curTheta.dot(X)\n",
    "            a = expit(z)\n",
    "            a = np.insert(a,0,1)\n",
    "            a = a.reshape(len(a), 1)\n",
    "            continue\n",
    "        z = curTheta.dot(a)\n",
    "        a = expit(z)\n",
    "        \n",
    "        # if we're on the last iteration we don't want to add the bias term because\n",
    "        # the last iteration will be the output\n",
    "        if (i != n - 1):\n",
    "            a = np.insert(a,0,1)\n",
    "        \n",
    "        a = a.reshape(len(a), 1)\n",
    "        # need because 0s = 10\n",
    "        #a += 10\n",
    "        #np.place (a, a < 1, 10)\n",
    "        return a"
   ]
  },
  {
   "cell_type": "code",
   "execution_count": 52,
   "metadata": {},
   "outputs": [
    {
     "name": "stdout",
     "output_type": "stream",
     "text": [
      "[[0.02115448 0.95828092 0.94567676 1.06863955 1.01808841 0.94313838\n",
      "  1.01481404 0.97658307 1.03840819 1.25107167]]\n"
     ]
    }
   ],
   "source": [
    "thetas = [Theta1,Theta2]\n",
    "a = costFunction(X,y,thetas,0)\n",
    "print(np.sum(a)"
   ]
  },
  {
   "cell_type": "code",
   "execution_count": null,
   "metadata": {},
   "outputs": [],
   "source": []
  }
 ],
 "metadata": {
  "kernelspec": {
   "display_name": "Python 3",
   "language": "python",
   "name": "python3"
  },
  "language_info": {
   "codemirror_mode": {
    "name": "ipython",
    "version": 3
   },
   "file_extension": ".py",
   "mimetype": "text/x-python",
   "name": "python",
   "nbconvert_exporter": "python",
   "pygments_lexer": "ipython3",
   "version": "3.7.0"
  }
 },
 "nbformat": 4,
 "nbformat_minor": 2
}
